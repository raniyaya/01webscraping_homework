{
 "cells": [
  {
   "cell_type": "code",
   "execution_count": 47,
   "id": "74074007",
   "metadata": {},
   "outputs": [
    {
     "name": "stdout",
     "output_type": "stream",
     "text": [
      "원의 넓이: 78.5\n"
     ]
    }
   ],
   "source": [
    "# circle_area.py\n",
    "radius = 5\n",
    "pi = 3.14\n",
    "area = pi * radius ** 2\n",
    "print(\"원의 넓이:\", area)"
   ]
  },
  {
   "cell_type": "code",
   "execution_count": 46,
   "id": "e9614ef4",
   "metadata": {},
   "outputs": [
    {
     "name": "stdout",
     "output_type": "stream",
     "text": [
      "체중(kg): 70\n",
      "키(cm): 1.75\n",
      "BMI: 22.9\n"
     ]
    }
   ],
   "source": [
    "# bmi_calculator.py\n",
    "weight = 70\n",
    "height = 175 *0.01\n",
    "bmi = weight / (height ** 2)\n",
    "print(\"체중(kg): \"+ str(weight))\n",
    "print(\"키(cm): \"+ str(height))\n",
    "print(\"BMI: \" + str(round(bmi,1)))"
   ]
  },
  {
   "cell_type": "code",
   "execution_count": null,
   "id": "4f6b7ea8",
   "metadata": {},
   "outputs": [
    {
     "name": "stdout",
     "output_type": "stream",
     "text": [
      "12345초는 3시간 25분 45초입니다.\n"
     ]
    }
   ],
   "source": [
    "# time_converter.py\n",
    "total_seconds = 12345\n",
    "hours = total_seconds // 3600\n",
    "remaining = total_seconds % 3600\n",
    "minutes = remaining // 60\n",
    "seconds = remaining % 60\n",
    "print(f\"{total_seconds}초는 {hours}시간 {minutes}분 {seconds}초입니다.\")"
   ]
  },
  {
   "cell_type": "code",
   "execution_count": null,
   "id": "95759c2f",
   "metadata": {},
   "outputs": [
    {
     "name": "stdout",
     "output_type": "stream",
     "text": [
      "각자 3333원을 받고 1원이 남습니다\n"
     ]
    }
   ],
   "source": [
    "# money_divide.py\n",
    "money = 10000\n",
    "people = 3\n",
    "each = money // people\n",
    "leftover = money % people\n",
    "print(f\"각자 {each}원을 받고 {leftover}원이 남습니다\")"
   ]
  },
  {
   "cell_type": "code",
   "execution_count": null,
   "id": "c26ba31a",
   "metadata": {},
   "outputs": [
    {
     "name": "stdout",
     "output_type": "stream",
     "text": [
      "Hello World\n",
      "HELLO WORLD\n",
      "World\n",
      "['Python', 'is', 'fun']\n",
      "ace\n",
      "HelloHelloHello\n"
     ]
    }
   ],
   "source": [
    "# string_process.py\n",
    "text1 = \"Hello\"\n",
    "text2 = \"World\"\n",
    "print(text1 + \" \" + text2)\n",
    "print((text1 + \" \" + text2).upper())\n",
    "print(text2)\n",
    "print(\"Python is fun\".split())\n",
    "print(\"abcdef\"[::2])\n",
    "print(text1 * 3)\n"
   ]
  },
  {
   "cell_type": "code",
   "execution_count": null,
   "id": "e55d7935",
   "metadata": {},
   "outputs": [
    {
     "name": "stdout",
     "output_type": "stream",
     "text": [
      "1990년 12월 12일\n"
     ]
    }
   ],
   "source": [
    "# id_number_parser.py\n",
    "id_number = \"901212-1234567\"\n",
    "year = \"19\" + id_number[:2]\n",
    "month = id_number[2:4]\n",
    "day = id_number[4:6]\n",
    "print(f\"{year}년 {month}월 {day}일\")"
   ]
  },
  {
   "cell_type": "code",
   "execution_count": null,
   "id": "215334fc",
   "metadata": {},
   "outputs": [
    {
     "name": "stdout",
     "output_type": "stream",
     "text": [
      "유효하지 않음\n"
     ]
    }
   ],
   "source": [
    "# email_validator.py\n",
    "email = input(\"이메일 주소: \")\n",
    "if \"@\" in email and \".\" in email:\n",
    "    print(\"유효함\")\n",
    "else:\n",
    "    print(\"유효하지 않음\")"
   ]
  },
  {
   "cell_type": "code",
   "execution_count": null,
   "id": "d719e4d8",
   "metadata": {},
   "outputs": [
    {
     "name": "stdout",
     "output_type": "stream",
     "text": [
      "모음 개수: 6\n"
     ]
    }
   ],
   "source": [
    "# count_vowels.py\n",
    "text = \"Python is awesome\"\n",
    "vowels = \"aeiouAEIOU\"\n",
    "count = sum(1 for char in text if char in vowels)\n",
    "print(\"모음 개수:\", count)\n"
   ]
  },
  {
   "cell_type": "code",
   "execution_count": null,
   "id": "83ff72b1",
   "metadata": {},
   "outputs": [
    {
     "name": "stdout",
     "output_type": "stream",
     "text": [
      "['apple', 'banana', 'cherry', 'orange']\n",
      "합계: 60\n",
      "[5, 4, 3, 2, 1]\n",
      "[1, 2, 5, 8, 9]\n"
     ]
    }
   ],
   "source": [
    "# list_process.py\n",
    "fruits = [\"apple\", \"banana\", \"cherry\"]\n",
    "fruits.append(\"orange\")\n",
    "print(fruits)\n",
    "nums = [10, 20, 30]\n",
    "print(\"합계:\", sum(nums))\n",
    "nums2 = [1, 2, 3, 4, 5]\n",
    "print(nums2[::-1])\n",
    "nums3 = [5, 2, 8, 1, 9]\n",
    "print(sorted(nums3))\n"
   ]
  },
  {
   "cell_type": "code",
   "execution_count": null,
   "id": "f18bd399",
   "metadata": {},
   "outputs": [
    {
     "name": "stdout",
     "output_type": "stream",
     "text": [
      "나이: 30\n",
      "과보들: ['math', 'science', 'history']\n",
      "{'apple': 5, 'banana': 5}\n"
     ]
    }
   ],
   "source": [
    "# dict_process.py\n",
    "person = {\"name\": \"John\", \"age\": 30}\n",
    "print(\"나이:\", person[\"age\"])\n",
    "scores = {\"math\": 90, \"science\": 85, \"history\": 78}\n",
    "print(\"과보들:\", list(scores.keys()))\n",
    "fruit_counts = {'apple': 3, 'banana': 5}\n",
    "fruit_counts['apple'] += 2\n",
    "print(fruit_counts)\n"
   ]
  },
  {
   "cell_type": "code",
   "execution_count": null,
   "id": "6e934ab3",
   "metadata": {},
   "outputs": [
    {
     "name": "stdout",
     "output_type": "stream",
     "text": [
      "2\n",
      "4\n",
      "6\n",
      "8\n",
      "10\n"
     ]
    }
   ],
   "source": [
    "# for_even.py\n",
    "for i in range(1, 11):\n",
    "    if i % 2 == 0:\n",
    "        print(i)\n"
   ]
  },
  {
   "cell_type": "code",
   "execution_count": null,
   "id": "36b8c3af",
   "metadata": {},
   "outputs": [
    {
     "name": "stdout",
     "output_type": "stream",
     "text": [
      "3의 배수의 합: 1683\n"
     ]
    }
   ],
   "source": [
    "# for_sum.py\n",
    "total = sum(i for i in range(1, 101) if i % 3 == 0)\n",
    "print(\"3의 배수의 합:\", total)"
   ]
  },
  {
   "cell_type": "code",
   "execution_count": 31,
   "id": "a33e675a",
   "metadata": {},
   "outputs": [
    {
     "name": "stdout",
     "output_type": "stream",
     "text": [
      "합격: 70\n",
      "합격: 85\n",
      "합격: 90\n",
      "합격: 78\n"
     ]
    }
   ],
   "source": [
    "# if_list.py\n",
    "scores = [70, 85, 90, 55, 78]\n",
    "for score in scores:\n",
    "    if score >= 60:\n",
    "        print(f\"합격: {score}\")"
   ]
  },
  {
   "cell_type": "code",
   "execution_count": 32,
   "id": "26758217",
   "metadata": {},
   "outputs": [
    {
     "name": "stdout",
     "output_type": "stream",
     "text": [
      "3 × 1 = 3\n",
      "3 × 2 = 6\n",
      "3 × 3 = 9\n",
      "3 × 4 = 12\n",
      "3 × 5 = 15\n",
      "3 × 6 = 18\n",
      "3 × 7 = 21\n",
      "3 × 8 = 24\n",
      "3 × 9 = 27\n"
     ]
    }
   ],
   "source": [
    "# for_gugudan.py\n",
    "for i in range(1, 10):\n",
    "    print(f\"3 × {i} = {3 * i}\")"
   ]
  },
  {
   "cell_type": "code",
   "execution_count": 33,
   "id": "8a808d43",
   "metadata": {},
   "outputs": [
    {
     "name": "stdout",
     "output_type": "stream",
     "text": [
      "15\n",
      "50\n"
     ]
    }
   ],
   "source": [
    "# func_calculator.py\n",
    "def calculator(a, b, op):\n",
    "    if op == '+':\n",
    "        return a + b\n",
    "    elif op == '-':\n",
    "        return a - b\n",
    "    elif op == '*':\n",
    "        return a * b\n",
    "    elif op == '/':\n",
    "        return a / b\n",
    "\n",
    "print(calculator(10, 5, '+'))\n",
    "print(calculator(10, 5, '*'))"
   ]
  },
  {
   "cell_type": "code",
   "execution_count": 34,
   "id": "5fc62c5b",
   "metadata": {},
   "outputs": [
    {
     "name": "stdout",
     "output_type": "stream",
     "text": [
      "단어 수: 5\n"
     ]
    }
   ],
   "source": [
    "# func_count_words.py\n",
    "def count_words(sentence):\n",
    "    return len(sentence.split())\n",
    "\n",
    "print(\"단어 수:\", count_words(\"This is a sample sentence.\"))"
   ]
  },
  {
   "cell_type": "code",
   "execution_count": 35,
   "id": "5d5ca6cb",
   "metadata": {},
   "outputs": [
    {
     "name": "stdout",
     "output_type": "stream",
     "text": [
      "[11, 13, 17, 19, 23, 29, 31, 37, 41, 43, 47]\n"
     ]
    }
   ],
   "source": [
    "# func_find_primes.py\n",
    "def find_primes(start, end):\n",
    "    primes = []\n",
    "    for num in range(start, end + 1):\n",
    "        if num > 1:\n",
    "            for i in range(2, int(num**0.5)+1):\n",
    "                if num % i == 0:\n",
    "                    break\n",
    "            else:\n",
    "                primes.append(num)\n",
    "    return primes\n",
    "\n",
    "print(find_primes(10, 50))"
   ]
  },
  {
   "cell_type": "code",
   "execution_count": 36,
   "id": "1504c5fd",
   "metadata": {},
   "outputs": [
    {
     "name": "stdout",
     "output_type": "stream",
     "text": [
      "[1, 4, 9, 16, 25]\n"
     ]
    }
   ],
   "source": [
    "# list_comprehension.py\n",
    "nums = [1, 2, 3, 4, 5]\n",
    "squares = [x**2 for x in nums]\n",
    "print(squares)"
   ]
  },
  {
   "cell_type": "code",
   "execution_count": 37,
   "id": "321c881d",
   "metadata": {},
   "outputs": [
    {
     "name": "stdout",
     "output_type": "stream",
     "text": [
      "[40, 50]\n"
     ]
    }
   ],
   "source": [
    "# filter_func.py\n",
    "nums = [10, 20, 30, 40, 50]\n",
    "result = list(filter(lambda x: x > 30, nums))\n",
    "print(result)"
   ]
  },
  {
   "cell_type": "code",
   "execution_count": 38,
   "id": "04f05d87",
   "metadata": {},
   "outputs": [
    {
     "name": "stdout",
     "output_type": "stream",
     "text": [
      "1 10\n",
      "2 20\n",
      "3 30\n"
     ]
    }
   ],
   "source": [
    "# zip_func.py\n",
    "list1 = [1, 2, 3]\n",
    "list2 = [10, 20, 30]\n",
    "for a, b in zip(list1, list2):\n",
    "    print(a, b)"
   ]
  },
  {
   "cell_type": "code",
   "execution_count": 39,
   "id": "16572ea7",
   "metadata": {},
   "outputs": [
    {
     "name": "stdout",
     "output_type": "stream",
     "text": [
      "[5.5, 6.0, 6.5, 7.0, 7.5]\n"
     ]
    }
   ],
   "source": [
    "# list_comp_advanced.py\n",
    "result = [(x + 10) / 2 for x in [1, 2, 3, 4, 5]]\n",
    "print(result)"
   ]
  },
  {
   "cell_type": "code",
   "execution_count": 40,
   "id": "8b9cba46",
   "metadata": {},
   "outputs": [
    {
     "name": "stdout",
     "output_type": "stream",
     "text": [
      "{'apple': 5, 'banana': 6, 'cherry': 6}\n"
     ]
    }
   ],
   "source": [
    "# dict_comp.py\n",
    "words = [\"apple\", \"banana\", \"cherry\"]\n",
    "lengths = {word: len(word) for word in words}\n",
    "print(lengths)"
   ]
  },
  {
   "cell_type": "code",
   "execution_count": null,
   "id": "e0cdaaab",
   "metadata": {},
   "outputs": [
    {
     "name": "stdout",
     "output_type": "stream",
     "text": [
      "[5, 7, 9]\n"
     ]
    }
   ],
   "source": [
    "# map_func.py\n",
    "list1 = [1, 2, 3]\n",
    "list2 = [4, 5, 6]\n",
    "result = list(map(lambda x, y: x + y, list1, list2))\n",
    "print(result)"
   ]
  },
  {
   "cell_type": "code",
   "execution_count": 42,
   "id": "0f9d8e96",
   "metadata": {},
   "outputs": [
    {
     "name": "stdout",
     "output_type": "stream",
     "text": [
      "[1, 4, 3, 16, 5, 36, 7, 64, 9, 100]\n"
     ]
    }
   ],
   "source": [
    "# conditional_comp.py\n",
    "result = [x**2 if x % 2 == 0 else x for x in range(1, 11)]\n",
    "print(result)"
   ]
  },
  {
   "cell_type": "code",
   "execution_count": null,
   "id": "05745928",
   "metadata": {},
   "outputs": [
    {
     "name": "stdout",
     "output_type": "stream",
     "text": [
      "2\n",
      "4\n",
      "6\n",
      "8\n",
      "10\n"
     ]
    }
   ],
   "source": [
    "# for_even.py\n",
    "for i in range(1, 11):\n",
    "    if i % 2 == 0:\n",
    "        print(i)"
   ]
  },
  {
   "cell_type": "code",
   "execution_count": null,
   "id": "cc9bd478",
   "metadata": {},
   "outputs": [
    {
     "name": "stdout",
     "output_type": "stream",
     "text": [
      "3의 배수의 합: 1683\n"
     ]
    }
   ],
   "source": [
    "# for_sum.py\n",
    "total = sum(i for i in range(1, 101) if i % 3 == 0)\n",
    "print(\"3의 배수의 합:\", total)"
   ]
  },
  {
   "cell_type": "code",
   "execution_count": null,
   "id": "88a7b9df",
   "metadata": {},
   "outputs": [
    {
     "name": "stdout",
     "output_type": "stream",
     "text": [
      "합격: 70\n",
      "합격: 85\n",
      "합격: 90\n",
      "합격: 78\n"
     ]
    }
   ],
   "source": [
    "# if_list.py\n",
    "scores = [70, 85, 90, 55, 78]\n",
    "for score in scores:\n",
    "    if score >= 60:\n",
    "        print(f\"합격: {score}\")"
   ]
  },
  {
   "cell_type": "code",
   "execution_count": null,
   "id": "62f63beb",
   "metadata": {},
   "outputs": [
    {
     "name": "stdout",
     "output_type": "stream",
     "text": [
      "3 × 1 = 3\n",
      "3 × 2 = 6\n",
      "3 × 3 = 9\n",
      "3 × 4 = 12\n",
      "3 × 5 = 15\n",
      "3 × 6 = 18\n",
      "3 × 7 = 21\n",
      "3 × 8 = 24\n",
      "3 × 9 = 27\n"
     ]
    }
   ],
   "source": [
    "# for_gugudan.py\n",
    "for i in range(1, 10):\n",
    "    print(f\"3 × {i} = {3 * i}\")"
   ]
  },
  {
   "cell_type": "code",
   "execution_count": null,
   "id": "fe754f97",
   "metadata": {},
   "outputs": [
    {
     "name": "stdout",
     "output_type": "stream",
     "text": [
      "15\n",
      "50\n"
     ]
    }
   ],
   "source": [
    "# func_calculator.py\n",
    "def calculator(a, b, op):\n",
    "    if op == '+':\n",
    "        return a + b\n",
    "    elif op == '-':\n",
    "        return a - b\n",
    "    elif op == '*':\n",
    "        return a * b\n",
    "    elif op == '/':\n",
    "        return a / b\n",
    "\n",
    "print(calculator(10, 5, '+'))\n",
    "print(calculator(10, 5, '*'))"
   ]
  },
  {
   "cell_type": "code",
   "execution_count": null,
   "id": "e6d63757",
   "metadata": {},
   "outputs": [
    {
     "name": "stdout",
     "output_type": "stream",
     "text": [
      "단어 수: 5\n"
     ]
    }
   ],
   "source": [
    "# func_count_words.py\n",
    "def count_words(sentence):\n",
    "    return len(sentence.split())\n",
    "\n",
    "print(\"단어 수:\", count_words(\"This is a sample sentence.\"))"
   ]
  },
  {
   "cell_type": "code",
   "execution_count": null,
   "id": "1de3c9f7",
   "metadata": {},
   "outputs": [
    {
     "name": "stdout",
     "output_type": "stream",
     "text": [
      "[11, 13, 17, 19, 23, 29, 31, 37, 41, 43, 47]\n"
     ]
    }
   ],
   "source": [
    "# func_find_primes.py\n",
    "def find_primes(start, end):\n",
    "    primes = []\n",
    "    for num in range(start, end + 1):\n",
    "        if num > 1:\n",
    "            for i in range(2, int(num**0.5)+1):\n",
    "                if num % i == 0:\n",
    "                    break\n",
    "            else:\n",
    "                primes.append(num)\n",
    "    return primes\n",
    "\n",
    "print(find_primes(10, 50))"
   ]
  },
  {
   "cell_type": "code",
   "execution_count": null,
   "id": "f8e3e176",
   "metadata": {},
   "outputs": [
    {
     "name": "stdout",
     "output_type": "stream",
     "text": [
      "[1, 4, 9, 16, 25]\n"
     ]
    }
   ],
   "source": [
    "# list_comprehension.py\n",
    "nums = [1, 2, 3, 4, 5]\n",
    "squares = [x**2 for x in nums]\n",
    "print(squares)"
   ]
  },
  {
   "cell_type": "code",
   "execution_count": null,
   "id": "e12418b5",
   "metadata": {},
   "outputs": [
    {
     "name": "stdout",
     "output_type": "stream",
     "text": [
      "[40, 50]\n"
     ]
    }
   ],
   "source": [
    "# filter_func.py\n",
    "nums = [10, 20, 30, 40, 50]\n",
    "result = list(filter(lambda x: x > 30, nums))\n",
    "print(result)"
   ]
  },
  {
   "cell_type": "code",
   "execution_count": null,
   "id": "f2f93800",
   "metadata": {},
   "outputs": [
    {
     "name": "stdout",
     "output_type": "stream",
     "text": [
      "1 10\n",
      "2 20\n",
      "3 30\n"
     ]
    }
   ],
   "source": [
    "# zip_func.py\n",
    "list1 = [1, 2, 3]\n",
    "list2 = [10, 20, 30]\n",
    "for a, b in zip(list1, list2):\n",
    "    print(a, b)"
   ]
  },
  {
   "cell_type": "code",
   "execution_count": null,
   "id": "73d6c966",
   "metadata": {},
   "outputs": [
    {
     "name": "stdout",
     "output_type": "stream",
     "text": [
      "[5.5, 6.0, 6.5, 7.0, 7.5]\n"
     ]
    }
   ],
   "source": [
    "# list_comp_advanced.py\n",
    "result = [(x + 10) / 2 for x in [1, 2, 3, 4, 5]]\n",
    "print(result)"
   ]
  },
  {
   "cell_type": "code",
   "execution_count": null,
   "id": "4fe94d3a",
   "metadata": {},
   "outputs": [
    {
     "name": "stdout",
     "output_type": "stream",
     "text": [
      "{'apple': 5, 'banana': 6, 'cherry': 6}\n"
     ]
    }
   ],
   "source": [
    "# dict_comp.py\n",
    "words = [\"apple\", \"banana\", \"cherry\"]\n",
    "lengths = {word: len(word) for word in words}\n",
    "print(lengths)"
   ]
  },
  {
   "cell_type": "code",
   "execution_count": null,
   "id": "2e5a2580",
   "metadata": {},
   "outputs": [
    {
     "name": "stdout",
     "output_type": "stream",
     "text": [
      "[5, 7, 9]\n"
     ]
    }
   ],
   "source": [
    "# map_func.py\n",
    "list1 = [1, 2, 3]\n",
    "list2 = [4, 5, 6]\n",
    "result = list(map(lambda x, y: x + y, list1, list2))\n",
    "print(result)"
   ]
  },
  {
   "cell_type": "code",
   "execution_count": null,
   "id": "73029b02",
   "metadata": {},
   "outputs": [
    {
     "name": "stdout",
     "output_type": "stream",
     "text": [
      "[1, 4, 3, 16, 5, 36, 7, 64, 9, 100]\n"
     ]
    }
   ],
   "source": [
    "# conditional_comp.py\n",
    "result = [x**2 if x % 2 == 0 else x for x in range(1, 11)]\n",
    "print(result)"
   ]
  }
 ],
 "metadata": {
  "kernelspec": {
   "display_name": "base",
   "language": "python",
   "name": "python3"
  },
  "language_info": {
   "codemirror_mode": {
    "name": "ipython",
    "version": 3
   },
   "file_extension": ".py",
   "mimetype": "text/x-python",
   "name": "python",
   "nbconvert_exporter": "python",
   "pygments_lexer": "ipython3",
   "version": "3.12.7"
  }
 },
 "nbformat": 4,
 "nbformat_minor": 5
}
