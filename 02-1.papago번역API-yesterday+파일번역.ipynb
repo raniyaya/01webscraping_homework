{
 "cells": [
  {
   "cell_type": "markdown",
   "metadata": {},
   "source": [
    "### requests의  PrepardRequest\n",
    "* [PrepardRequest](https://requests.readthedocs.io/en/latest/user/advanced/#prepared-requests)"
   ]
  },
  {
   "cell_type": "code",
   "execution_count": null,
   "metadata": {},
   "outputs": [
    {
     "ename": "NameError",
     "evalue": "name 'Translator' is not defined",
     "output_type": "error",
     "traceback": [
      "\u001b[1;31m---------------------------------------------------------------------------\u001b[0m",
      "\u001b[1;31mNameError\u001b[0m                                 Traceback (most recent call last)",
      "Cell \u001b[1;32mIn[6], line 40\u001b[0m\n\u001b[0;32m     37\u001b[0m     save_to_file(result_list)\n\u001b[0;32m     38\u001b[0m     \u001b[38;5;28mprint\u001b[39m(\u001b[38;5;124m'\u001b[39m\u001b[38;5;124m번역 완료!\u001b[39m\u001b[38;5;124m'\u001b[39m)\n\u001b[1;32m---> 40\u001b[0m main()\n",
      "Cell \u001b[1;32mIn[6], line 16\u001b[0m, in \u001b[0;36mmain\u001b[1;34m()\u001b[0m\n\u001b[0;32m     14\u001b[0m \u001b[38;5;28;01mdef\u001b[39;00m \u001b[38;5;21mmain\u001b[39m():\n\u001b[0;32m     15\u001b[0m     \u001b[38;5;66;03m# Translator 객체생성\u001b[39;00m\n\u001b[1;32m---> 16\u001b[0m     translator \u001b[38;5;241m=\u001b[39m Translator()\n\u001b[0;32m     17\u001b[0m     \u001b[38;5;66;03m# txt 파일을 읽어서 list로 저장하기\u001b[39;00m\n\u001b[0;32m     18\u001b[0m     lists \u001b[38;5;241m=\u001b[39m get_text_list()\n",
      "\u001b[1;31mNameError\u001b[0m: name 'Translator' is not defined"
     ]
    }
   ],
   "source": [
    "from requests import Request, Session\n",
    "\n",
    "NAVER_CLIENT_ID = 'ZAZjlfXS4P5FW5DtE0wg'\n",
    "NAVER_CLIENT_SECRET = 'RNbe1ikysg'\n",
    "\n",
    "\n",
    "def get_text_list():\n",
    "    lists = []\n",
    "    with open('data/yesterday.txt', 'r',encoding=\"utf8\") as file:\n",
    "        contents = file.read()\n",
    "        lists = contents.split(\"\\n\")\n",
    "\n",
    "    return lists\n",
    "\n",
    "def save_to_file(list):\n",
    "    with open('data/yesterday.translated_ver2.txt', 'w',encoding=\"utf8\") as file:\n",
    "        file.writelines(list)\n",
    "\n",
    "def main():\n",
    "    # session 객체생성\n",
    "    session = Session()\n",
    "    # 요청헤더 dict 선언\n",
    "    headers = {\n",
    "        'X-Naver-Client-Id': NAVER_CLIENT_ID,\n",
    "        'X-Naver-Client-Secret': NAVER_CLIENT_SECRET,\n",
    "    }\n",
    "    url = 'https://openapi.naver.com/v1/papago/n2mt'\n",
    "\n",
    "    lists = get_text_list()\n",
    "    lists = [ i for i in lists if len(i) != 0] # '' 문자열 제거\n",
    "\n",
    "    result_list = []\n",
    "    payload = {\n",
    "        'source': 'en',\n",
    "        'target': 'ko',\n",
    "    }\n",
    "    for en_text in lists:\n",
    "        payload['text'] = en_text\n",
    "        # request 객체생성\n",
    "        req = Request('POST', url, data=payload, headers=headers)\n",
    "        # PreparedRequest 객체생성\n",
    "        prepared = req.prepare()\n",
    "        #print(type(prepared))\n",
    "        # request를 보내고 response 객체생성\n",
    "        res = session.send(prepared)\n",
    "        \n",
    "        print('send original text : ', en_text)\n",
    "        ko_text = ''\n",
    "        \n",
    "        try:\n",
    "            ko_text = res.json()['message']['result']['translatedText']\n",
    "        except Exception as err:\n",
    "            print('에러 발생 ',res.json())\n",
    "            break\n",
    "\n",
    "        print('translated to : ', ko_text)\n",
    "        result_list.append(en_text+ '\\n')\n",
    "        result_list.append(ko_text + '\\n')\n",
    "\n",
    "    save_to_file(result_list)\n",
    "    print('job completed..')\n",
    "\n",
    "\n",
    "main()\n"
   ]
  },
  {
   "cell_type": "markdown",
   "metadata": {},
   "source": [
    "#### googletrans 라이브러리 사용하여 번역하기"
   ]
  },
  {
   "cell_type": "code",
   "execution_count": 2,
   "metadata": {},
   "outputs": [
    {
     "name": "stdout",
     "output_type": "stream",
     "text": [
      "Note: you may need to restart the kernel to use updated packages.\n"
     ]
    }
   ],
   "source": [
    "# -q 옵션은 install 한 결과를 출력하자 얺움\n",
    "%pip install -q googletrans"
   ]
  },
  {
   "cell_type": "code",
   "execution_count": 3,
   "metadata": {},
   "outputs": [
    {
     "name": "stdout",
     "output_type": "stream",
     "text": [
      "Name: googletrans\n",
      "Version: 4.0.0rc1\n",
      "Summary: Free Google Translate API for Python. Translates totally free of charge.\n",
      "Home-page: https://github.com/ssut/py-googletrans\n",
      "Author: SuHun Han\n",
      "Author-email: ssut@ssut.me\n",
      "License: MIT\n",
      "Location: c:\\Users\\user\\anaconda3\\Lib\\site-packages\n",
      "Requires: httpx\n",
      "Required-by: \n",
      "Note: you may need to restart the kernel to use updated packages.\n"
     ]
    }
   ],
   "source": [
    "%pip show googletrans"
   ]
  },
  {
   "cell_type": "code",
   "execution_count": 7,
   "metadata": {},
   "outputs": [
    {
     "name": "stdout",
     "output_type": "stream",
     "text": [
      "원문: Yesterday all my troubles seemed so far away.\n",
      "번역: 어제 내 모든 문제는 너무 멀리 보였습니다.\n",
      "원문: Now it looks as though they're here to stay.\n",
      "번역: 이제 마치 그들이 머무르는 것처럼 보입니다.\n",
      "원문: Oh, I believe in yesterday.\n",
      "번역: 오, 나는 어제 믿는다.\n",
      "원문: Suddenly I'm not half the man I used to be.\n",
      "번역: 갑자기 나는 예전의 사람의 절반이 아닙니다.\n",
      "원문: There's a shadow hanging over me.\n",
      "번역: 내 위에 걸려있는 그림자가 있습니다.\n",
      "원문: Oh, yesterday came suddenly.\n",
      "번역: 오, 어제 갑자기왔다.\n",
      "원문: Why she had to go, I don't know, she wouldn't say.\n",
      "번역: 그녀가 왜 가야했는지, 나는 모르겠다. 그녀는 말하지 않을 것이다.\n",
      "원문: I said something wrong, now I long for yesterday.\n",
      "번역: 나는 뭔가 잘못했다고, 이제 나는 어제를 갈망했다.\n",
      "원문: Yesterday love was such an easy game to play.\n",
      "번역: 어제 사랑은 놀이가 쉬운 게임이었습니다.\n",
      "원문: Now I need a place to hide away.\n",
      "번역: 이제 숨길 곳이 필요합니다.\n",
      "원문: Oh, I believe in yesterday.\n",
      "번역: 오, 나는 어제 믿는다.\n",
      "원문: Why she had to go, I don't know, she wouldn't say.\n",
      "번역: 그녀가 왜 가야했는지, 나는 모르겠다. 그녀는 말하지 않을 것이다.\n",
      "원문: I said something wrong, now I long for yesterday.\n",
      "번역: 나는 뭔가 잘못했다고, 이제 나는 어제를 갈망했다.\n",
      "원문: Yesterday love was such an easy game to play.\n",
      "번역: 어제 사랑은 놀이가 쉬운 게임이었습니다.\n",
      "원문: Now I need a place to hide away.\n",
      "번역: 이제 숨길 곳이 필요합니다.\n",
      "원문: Oh, I believe in yesterday.\n",
      "번역: 오, 나는 어제 믿는다.\n",
      "원문: Mm mm mm mm mm mm mm\n",
      "번역: mm mm mm mm mm mm mm\n",
      "번역 완료!\n"
     ]
    }
   ],
   "source": [
    "from googletrans import Translator\n",
    "\n",
    "def get_text_list():\n",
    "    lists = []\n",
    "    with open('data/yesterday.txt', 'r', encoding=\"utf8\") as file:\n",
    "        contents = file.read()\n",
    "        lists = contents.split(\"\\n\")\n",
    "    return lists\n",
    "\n",
    "\n",
    "def save_to_file(list):\n",
    "    with open('data/yesterday_translated_google.txt', 'w', encoding=\"utf8\") as file:\n",
    "        # list를 file로 저장\n",
    "        file.writelines(list)\n",
    "\n",
    "def main():\n",
    "    # Translator 객체생성\n",
    "    translator = Translator()\n",
    "\n",
    "    # txt 파일을 읽어서 list로 저장하기\n",
    "    lists = get_text_list()\n",
    "    # empty string 제거\n",
    "    lists = [i for i in lists if len(i.strip()) != 0]  # 공백 제거\n",
    "\n",
    "    result_list = []\n",
    "\n",
    "    for en_text in lists:\n",
    "        print('원문:', en_text)\n",
    "        # 번역 요청청\n",
    "        translated = translator.translate(en_text, src='en', dest='ko')\n",
    "        ko_text = translated.text\n",
    "        print('번역:', ko_text)\n",
    "\n",
    "        result_list.append(en_text + '\\n')\n",
    "        result_list.append(ko_text + '\\n')\n",
    "\n",
    "    save_to_file(result_list)\n",
    "    print('번역 완료!')\n",
    "\n",
    "main()"
   ]
  }
 ],
 "metadata": {
  "kernelspec": {
   "display_name": "base",
   "language": "python",
   "name": "python3"
  },
  "language_info": {
   "codemirror_mode": {
    "name": "ipython",
    "version": 3
   },
   "file_extension": ".py",
   "mimetype": "text/x-python",
   "name": "python",
   "nbconvert_exporter": "python",
   "pygments_lexer": "ipython3",
   "version": "3.12.7"
  }
 },
 "nbformat": 4,
 "nbformat_minor": 4
}
